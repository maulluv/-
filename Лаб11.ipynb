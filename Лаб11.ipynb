{
 "cells": [
  {
   "cell_type": "code",
   "execution_count": 13,
   "id": "768c2eaf-987e-4ea8-bb99-cb253f19fa39",
   "metadata": {},
   "outputs": [
    {
     "name": "stdout",
     "output_type": "stream",
     "text": [
      "right rectangle: 1.98664\n",
      "average rectangle: 1.14842\n",
      "Check for the rectangle method=  1.9338\n"
     ]
    }
   ],
   "source": [
    "from scipy import integrate \n",
    "import numpy as np\n",
    "eps = 0.001\n",
    "a = 1.3\n",
    "b = 2.5\n",
    "n = 10\n",
    "\n",
    "def f1(x): \n",
    "    return x/np.sqrt(0.2*x+1)\n",
    "def left_rec(f1,a,b,n): \n",
    "    h=(b-a)/n \n",
    "    sum=0 \n",
    "    for i in range(0,n): \n",
    "        sum+=f1(a+i*h) \n",
    "    return sum*h \n",
    "v,err = integrate.quad(f1,a,b)#Перевірка\n",
    "#Перевірка точності за правилом Рунге:\n",
    "if abs(left_rec(f1,a,b,2*10) - left_rec(f1,a,b,10))/3. <=eps: \n",
    "    print(\"left rectangle:\",round (left_rec(f1,a,b,10), 5)) \n",
    "def right_rec(f1,a,b,n): \n",
    "    h=(b-a)/n \n",
    "    sum=0 \n",
    "    for i in range(1,n+1): \n",
    "        sum+=f1(a+i*h) \n",
    "    return sum*h \n",
    "print(\"right rectangle:\",round (right_rec(f1,a,b,10), 5)) \n",
    "def aver_rec(f1,a,b,n): \n",
    "    h=0.08 \n",
    "    sum=0 \n",
    "    for i in range(0,n): \n",
    "        sum+=f1(a+i*h) \n",
    "    return sum*h \n",
    "print(\"average rectangle:\",round (aver_rec(f1,a,b,10), 5)) \n",
    "print(\"Check for the rectangle method= \",round (v, 5))\n"
   ]
  },
  {
   "cell_type": "code",
   "execution_count": 14,
   "id": "ee11422d-4c90-411b-8dd6-ca77e2bcc246",
   "metadata": {},
   "outputs": [
    {
     "name": "stdout",
     "output_type": "stream",
     "text": [
      "Simpsone method: 0.939\n",
      "Check for the simpsone method=  0.939\n"
     ]
    }
   ],
   "source": [
    "from scipy import integrate \n",
    "import numpy as np\n",
    "\n",
    "# Задаємо функцію, яку необхідно інтегрувати\n",
    "def f(x):\n",
    "    return np.log(x**2 + 0.8) / (x - 1)\n",
    "\n",
    "# Задаємо межі інтегрування та початкову кількість розбиттів\n",
    "a = 2.5\n",
    "b = 3.3\n",
    "n = 8\n",
    "\n",
    "# Обчислюємо значення інтегралу методом Симпсона\n",
    "def simpson_rule(f, a, b, n):\n",
    "    h = (b - a) / n \n",
    "    integr = f(a) + f(b) \n",
    "    for i in range(1,n): \n",
    "        k = a + i*h \n",
    "        if i%2 == 0: \n",
    "            integr += 2 * f(k) \n",
    "        else: \n",
    "            integr += 4 * f(k) \n",
    "    integr *= h/3 \n",
    "    return integr \n",
    "\n",
    "# Обчислюємо значення інтегралу методом Сімпсона з точністю 0.001\n",
    "integral1 = simpson_rule(f, a, b, n)\n",
    "n *= 2\n",
    "integral2 = simpson_rule(f, a, b, n)\n",
    "while abs(integral2 - integral1) / 15 > 0.001:\n",
    "    integral1 = integral2\n",
    "    n *= 2\n",
    "    integral2 = simpson_rule(f, a, b, n)\n",
    "# Виводимо результат\n",
    "print(\"Simpsone method:\", round(integral2, 3))\n",
    "\n",
    "v,err = integrate.quad(f,a,b)#Перевірка \n",
    "print(\"Check for the simpsone method= \",round(v, 3))\n"
   ]
  },
  {
   "cell_type": "code",
   "execution_count": null,
   "id": "d5c4ea23-715b-4747-b329-92475a39746c",
   "metadata": {},
   "outputs": [],
   "source": [
    "from scipy import integrate \n",
    "import numpy as np\n",
    "\n",
    "# Задаємо функцію, яку необхідно інтегрувати\n",
    "def f(x):\n",
    "    return x/np.sqrt(2*x**2 + 1.3)\n",
    "\n",
    "# Задаємо межі інтегрування та початкову кількість розбиттів\n",
    "a = 1\n",
    "b = 2\n",
    "n = 20\n",
    "\n",
    "# Обчислюємо значення інтегралу методом трапецій\n",
    "def trapezoidal_rule(f, a, b, n):\n",
    "    h = (b - a) / n\n",
    "    x = a\n",
    "    sum = 0\n",
    "    for i in range(1, n):\n",
    "        x += h\n",
    "        sum += 2 * f(x)\n",
    "    sum += f(b)\n",
    "    integral = h / 2 * sum\n",
    "\n",
    "    return integral\n",
    "\n",
    "# Обчислюємо значення інтегралу методом трапецій з точністю 0.001\n",
    "#Перевірка точності за правилом Рунге\n",
    "integral1 = trapezoidal_rule(f, a, b, n)\n",
    "n *= 2\n",
    "integral2 = trapezoidal_rule(f, a, b, n)\n",
    "while abs(integral2 - integral1) / 3 > 0.001:\n",
    "    integral1 = integral2\n",
    "    n *= 2\n",
    "    integral2 = trapezoidal_rule(f, a, b, n)\n",
    "\n",
    "# Виводимо результат\n",
    "print(\"Trapetzia methodof:\", round(integral2, 3))\n",
    "\n",
    "v,err = integrate.quad(f,3.2,4) #Перевірка\n",
    "print(\"Check for the trapetzia method= \",round(v, 5))\n"
   ]
  }
 ],
 "metadata": {
  "kernelspec": {
   "display_name": "Python 3 (ipykernel)",
   "language": "python",
   "name": "python3"
  },
  "language_info": {
   "codemirror_mode": {
    "name": "ipython",
    "version": 3
   },
   "file_extension": ".py",
   "mimetype": "text/x-python",
   "name": "python",
   "nbconvert_exporter": "python",
   "pygments_lexer": "ipython3",
   "version": "3.11.4"
  }
 },
 "nbformat": 4,
 "nbformat_minor": 5
}
