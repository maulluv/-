{
  "metadata": {
    "kernelspec": {
      "name": "python",
      "display_name": "Python (Pyodide)",
      "language": "python"
    },
    "language_info": {
      "codemirror_mode": {
        "name": "python",
        "version": 3
      },
      "file_extension": ".py",
      "mimetype": "text/x-python",
      "name": "python",
      "nbconvert_exporter": "python",
      "pygments_lexer": "ipython3",
      "version": "3.8"
    }
  },
  "nbformat_minor": 5,
  "nbformat": 4,
  "cells": [
    {
      "cell_type": "code",
      "source": "import numpy as np\n\n# Створимо матрицю A\nA = np.array([[1,2],\n              [4, -1]])\n\n# Створимо матрицю B\nB = np.array([[2,-3],\n              [4, 1]])\n\n# Обчислимо матрицю C\nC = np.dot(A, B) - np.dot(B, A)\n\nprint(\"Матриця C:\")\nprint(C)",
      "metadata": {
        "trusted": true
      },
      "execution_count": 1,
      "outputs": [
        {
          "name": "stdout",
          "text": "Матриця C:\n[[ 20  -8]\n [ -4 -20]]\n",
          "output_type": "stream"
        }
      ],
      "id": "5fd8ee89-cfa7-47d5-ab79-5d5003e4a657"
    },
    {
      "cell_type": "code",
      "source": "import numpy as np\n\n# Створимо матрицю A\nA = np.array([[-1,2],\n              [0, 1]])\n\n# Обчислимо матрицю C\nC = pow(A,2)\n\n\nprint(C)\n",
      "metadata": {
        "trusted": true
      },
      "execution_count": 2,
      "outputs": [
        {
          "name": "stdout",
          "text": "[[1 4]\n [0 1]]\n",
          "output_type": "stream"
        }
      ],
      "id": "a056bd6b-d5ed-47c8-a7e7-440ceb57ccad"
    },
    {
      "cell_type": "code",
      "source": "import numpy as np\n\n# Створимо матрицю A\nA = np.array([[3,5],\n              [6, -1]])\n\n# Створимо матрицю B\nB = np.array([[2,1],\n              [-3, 2]])\n\n# Обчислимо матрицю C\nC = A * B\n\nprint(\"Матриця C:\")\nprint(C)",
      "metadata": {
        "trusted": true
      },
      "execution_count": 3,
      "outputs": [
        {
          "name": "stdout",
          "text": "Матриця C:\n[[  6   5]\n [-18  -2]]\n",
          "output_type": "stream"
        }
      ],
      "id": "9214b622-c789-45fa-907d-5df3f5338745"
    },
    {
      "cell_type": "code",
      "source": "import numpy as np\n\n# Для матриці 4x4\nB = np.array([[1, 2, 3,4],\n              [3, -1, 2,5],\n              [1, 2, 3,4],\n              [1,3,4,5]\n              ])\n\ndet_4x4 = np.linalg.det(B)\n\n\nprint(\"Визначник матриці 4x4:\", det_4x4)",
      "metadata": {
        "trusted": true
      },
      "execution_count": 5,
      "outputs": [
        {
          "name": "stdout",
          "text": "Визначник матриці 4x4: 0.0\n",
          "output_type": "stream"
        }
      ],
      "id": "d1a9b8fe-ee93-406d-8ed9-0a4a4a37c578"
    },
    {
      "cell_type": "code",
      "source": "import numpy as np\n\nA = np.array([[1, -2, 1],\n              [2, -1, 1],\n              [3, 2, 2]])\n\nB = np.array([4, 3, 2])\ndetA = np.linalg.det(A)\n\nA_x = A.copy()\nA_x[:, 0] = B\ndetA_x = np.linalg.det(A_x)\n\nA_y = A.copy()\nA_y[:, 1] = B\ndetA_y = np.linalg.det(A_y)\n\nA_z = A.copy()\nA_z[:, 2] = B\ndetA_z = np.linalg.det(A_z)\n\nx = detA_x / detA\ny = detA_y / detA\nz = detA_z / detA\n\nprint(\"Решение:\")\nprint(\"x =\", x)\nprint(\"y =\", y)\nprint(\"z =\", z)\n\n",
      "metadata": {
        "trusted": true
      },
      "execution_count": 6,
      "outputs": [
        {
          "name": "stdout",
          "text": "Решение:\nx = 0.0\ny = -1.0\nz = 2.0\n",
          "output_type": "stream"
        }
      ],
      "id": "4b0e99b4-a27f-42c8-9a57-1bdbfc1a1284"
    },
    {
      "cell_type": "code",
      "source": "import numpy as np\n\n# Для матриці 3x3\nB = np.array([[2, 3, 4],\n              [1, 0, 6],\n              [7, 8, 9]])\n\ndet_3x3 = np.linalg.det(B)\n\n\nprint(\"Визначник матриці 3x3:\", det_3x3)\n",
      "metadata": {},
      "execution_count": null,
      "outputs": [],
      "id": "c496d620-1e5b-44a1-8243-2e26c4e024f6"
    },
    {
      "cell_type": "code",
      "source": "import numpy as np\nN = 5\nM = 6 \n\nA = np.random.randint(1, 11, size=(N, M))\n\ntotal_sum = np.sum(A)\n\ncolumn_sums = np.sum(A, axis=0)\n\ncolumn_fractions = column_sums / total_sum\n\nprint(\"Матриця A:\")\nprint(A)\n\nprint(\"\\nСума всіх елементів матриці:\", total_sum)\n\nprint(\"\\nСуми елементів кожного стовпця:\")\nfor i, col_sum in enumerate(column_sums):\n    print(f\"Сума стовпця {i + 1}: {col_sum}\")\n\nprint(\"\\nДолі сум елементів кожного стовпця відносно загальної суми:\")\nfor i, fraction in enumerate(column_fractions):\n    print(f\"Доля стовпця {i + 1}: {fraction:.2%}\")\n",
      "metadata": {
        "trusted": true
      },
      "execution_count": 7,
      "outputs": [
        {
          "name": "stdout",
          "text": "Матриця A:\n[[ 6  8  3  2 10  5]\n [ 6  9  2  5  3  7]\n [ 7  2  1  5  2  9]\n [ 2  5  2  7 10 10]\n [ 1  6 10  8  9  7]]\n\nСума всіх елементів матриці: 169\n\nСуми елементів кожного стовпця:\nСума стовпця 1: 22\nСума стовпця 2: 30\nСума стовпця 3: 18\nСума стовпця 4: 27\nСума стовпця 5: 34\nСума стовпця 6: 38\n\nДолі сум елементів кожного стовпця відносно загальної суми:\nДоля стовпця 1: 13.02%\nДоля стовпця 2: 17.75%\nДоля стовпця 3: 10.65%\nДоля стовпця 4: 15.98%\nДоля стовпця 5: 20.12%\nДоля стовпця 6: 22.49%\n",
          "output_type": "stream"
        }
      ],
      "id": "36aa951d-8265-4e7d-9b9b-35dc950ed9fc"
    },
    {
      "cell_type": "markdown",
      "source": "# Introduction to the JupyterLab and Jupyter Notebooks\n\nThis is a short introduction to two of the flagship tools created by [the Jupyter Community](https://jupyter.org).\n\n> **⚠️Experimental!⚠️**: This is an experimental interface provided by the [JupyterLite project](https://jupyterlite.readthedocs.io/en/latest/). It embeds an entire JupyterLab interface, with many popular packages for scientific computing, in your browser. There may be minor differences in behavior between JupyterLite and the JupyterLab you install locally. You may also encounter some bugs or unexpected behavior. To report any issues, or to get involved with the JupyterLite project, see [the JupyterLite repository](https://github.com/jupyterlite/jupyterlite/issues?q=is%3Aissue+is%3Aopen+sort%3Aupdated-desc).\n\n## JupyterLab 🧪\n\n**JupyterLab** is a next-generation web-based user interface for Project Jupyter. It enables you to work with documents and activities such as Jupyter notebooks, text editors, terminals, and custom components in a flexible, integrated, and extensible manner. It is the interface that you're looking at right now.\n\n**For an overview of the JupyterLab interface**, see the **JupyterLab Welcome Tour** on this page, by going to `Help -> Welcome Tour` and following the prompts.\n\n> **See Also**: For a more in-depth tour of JupyterLab with a full environment that runs in the cloud, see [the JupyterLab introduction on Binder](https://mybinder.org/v2/gh/jupyterlab/jupyterlab-demo/HEAD?urlpath=lab/tree/demo).\n\n## Jupyter Notebooks 📓\n\n**Jupyter Notebooks** are a community standard for communicating and performing interactive computing. They are a document that blends computations, outputs, explanatory text, mathematics, images, and rich media representations of objects.\n\nJupyterLab is one interface used to create and interact with Jupyter Notebooks.\n\n**For an overview of Jupyter Notebooks**, see the **JupyterLab Welcome Tour** on this page, by going to `Help -> Notebook Tour` and following the prompts.\n\n> **See Also**: For a more in-depth tour of Jupyter Notebooks and the Classic Jupyter Notebook interface, see [the Jupyter Notebook IPython tutorial on Binder](https://mybinder.org/v2/gh/ipython/ipython-in-depth/HEAD?urlpath=tree/binder/Index.ipynb).\n\n## An example: visualizing data in the notebook ✨\n\nBelow is an example of a code cell. We'll visualize some simple data using two popular packages in Python. We'll use [NumPy](https://numpy.org/) to create some random data, and [Matplotlib](https://matplotlib.org) to visualize it.\n\nNote how the code and the results of running the code are bundled together.",
      "metadata": {},
      "id": "a35eeb9f-df70-4ab1-a243-2d2025888eb0"
    },
    {
      "cell_type": "code",
      "source": "import numpy as np\n\nN = 6\nM = 7  \n\nA = np.random.randint(1, 11, size=(N, M))\n\ntotal_sum = np.sum(A)\n\nrow_sums = np.sum(A, axis=1)\n\nrow_fractions = row_sums / total_sum\n\nprint(\"Матриця A:\")\nprint(A)\n\nprint(\"\\nСума всіх елементів матриці:\", total_sum)\n\nprint(\"\\nСуми елементів кожного рядка:\")\nfor i, row_sum in enumerate(row_sums):\n    print(f\"Сума рядка {i + 1}: {row_sum}\")\n\nprint(\"\\nДолі сум елементів кожного рядка відносно загальної суми:\")\nfor i, fraction in enumerate(row_fractions):\n    print(f\"Доля рядка {i + 1}: {fraction:.2%}\")\n",
      "metadata": {
        "trusted": true
      },
      "execution_count": 8,
      "outputs": [
        {
          "name": "stdout",
          "text": "Матриця A:\n[[ 3 10  7  6  1  1  7]\n [ 4  3  4  3  2  1  3]\n [ 1  6  2  3  7  8  8]\n [ 6  4  9  4  9  2  6]\n [ 7 10  4  1 10  8  7]\n [ 2  8  3  8  1  4  5]]\n\nСума всіх елементів матриці: 208\n\nСуми елементів кожного рядка:\nСума рядка 1: 35\nСума рядка 2: 20\nСума рядка 3: 35\nСума рядка 4: 40\nСума рядка 5: 47\nСума рядка 6: 31\n\nДолі сум елементів кожного рядка відносно загальної суми:\nДоля рядка 1: 16.83%\nДоля рядка 2: 9.62%\nДоля рядка 3: 16.83%\nДоля рядка 4: 19.23%\nДоля рядка 5: 22.60%\nДоля рядка 6: 14.90%\n",
          "output_type": "stream"
        }
      ],
      "id": "8df876eb-7808-4bd2-bf85-9236bc1d1874"
    },
    {
      "cell_type": "code",
      "source": "import numpy as np\nN = 4  \nM = 5  \n\nA = np.random.randint(-10, 11, size=(N, M))\n\nnegative_elements_in_columns = np.sum(A < 0, axis=0)\nnegative_elements_in_rows = np.sum(A < 0, axis=1)\n\nprint(\"Матриця A:\")\nprint(A)\n\nprint(\"\\nКількість негативних елементів в кожному стовпці:\")\nfor i, count in enumerate(negative_elements_in_columns):\n    print(f\"Кількість негативних елементів у стовпці {i + 1}: {count}\")\n\nprint(\"\\nКількість негативних елементів в кожному рядку:\")\nfor i, count in enumerate(negative_elements_in_rows):\n    print(f\"Кількість негативних елементів у рядку {i + 1}: {count}\")\n",
      "metadata": {
        "trusted": true
      },
      "execution_count": 9,
      "outputs": [
        {
          "name": "stdout",
          "text": "Матриця A:\n[[  4   5 -10  -1  -5]\n [  7  -8  -6   6   4]\n [ -1   8  -4  -9  -8]\n [ -1  10   5  -4  10]]\n\nКількість негативних елементів в кожному стовпці:\nКількість негативних елементів у стовпці 1: 2\nКількість негативних елементів у стовпці 2: 1\nКількість негативних елементів у стовпці 3: 3\nКількість негативних елементів у стовпці 4: 3\nКількість негативних елементів у стовпці 5: 2\n\nКількість негативних елементів в кожному рядку:\nКількість негативних елементів у рядку 1: 3\nКількість негативних елементів у рядку 2: 2\nКількість негативних елементів у рядку 3: 4\nКількість негативних елементів у рядку 4: 2\n",
          "output_type": "stream"
        }
      ],
      "id": "23f7f86d-6e08-4839-be4f-e6a2f7eaa1a2"
    },
    {
      "cell_type": "markdown",
      "source": "## Next steps 🏃\n\nThis is just a short introduction to JupyterLab and Jupyter Notebooks. See below for some more ways to interact with tools in the Jupyter ecosystem, and its community.\n\n### Other notebooks in this demo\n\nHere are some other notebooks in this demo. Each of the items below corresponds to a file or folder in the **file browser to the left**.\n\n- [**`Lorenz.ipynb`**](Lorenz.ipynb) uses Python to demonstrate interactive visualizations and computations around the [Lorenz system](https://en.wikipedia.org/wiki/Lorenz_system). It shows off basic Python functionality, including more visualizations, data structures, and scientific computing libraries.\n- [**`sqlite.ipynb`**](sqlite.ipynb) demonstrates how an in-browser sqlite kernel to run your own SQL commands from the notebook. It uses the [jupyterlite/xeus-sqlite-kernel](https://github.com/jupyterlite/xeus-sqlite-kernel).\n\n### Other sources of information in Jupyter\n\n- **More on using JupyterLab**: See [the JupyterLab documentation](https://jupyterlab.readthedocs.io/en/stable/) for more thorough information about how to install and use JupyterLab.\n- **More interactive demos**: See [try.jupyter.org](https://try.jupyter.org) for more interactive demos with the Jupyter ecosystem.\n- **Learn more about Jupyter**: See [the Jupyter community documentation](https://docs.jupyter.org) to learn more about the project, its community and tools, and how to get involved.\n- **Join our discussions**: The [Jupyter Community Forum](https://discourse.jupyter.org) is a place where many in the Jupyter community ask questions, help one another, and discuss issues around interactive computing and our ecosystem.",
      "metadata": {},
      "id": "b9670d85-ef29-4dfd-b4b5-e76d279c1f1a"
    }
  ]
}