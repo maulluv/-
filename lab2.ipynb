{
  "metadata": {
    "kernelspec": {
      "name": "python",
      "display_name": "Python (Pyodide)",
      "language": "python"
    },
    "language_info": {
      "codemirror_mode": {
        "name": "python",
        "version": 3
      },
      "file_extension": ".py",
      "mimetype": "text/x-python",
      "name": "python",
      "nbconvert_exporter": "python",
      "pygments_lexer": "ipython3",
      "version": "3.8"
    }
  },
  "nbformat_minor": 5,
  "nbformat": 4,
  "cells": [
    {
      "cell_type": "code",
      "source": "import math\nimport numpy as np\n\ndef f(x):\n   return 3*pow(x, 4) + pow(x,3) + 10*pow(x, 2) - 2*x - 3\n\neps = 0.0001\n\ndef find_segments():\n    search_range = np.arange(-10, 10, 1)\n    a = None\n    previous_x = None\n    current_x  = None\n    segments = []\n    for x in search_range:\n        x = round(x, 4)\n        current_x = f(x)\n        if previous_x is not None and previous_x * current_x < 0:\n            segments.append((a, x))\n        a = x\n        previous_x = current_x\n    return segments\n\nsegments = find_segments()\nfor a, b in segments:\n    print(f'Found segment: [{a}, {b}]')\n\ndef rec(a, b, eps):\n    if f(a) * f(b) > 0:\n        print(\"No sign change in the interval, cannot apply bisection method.\")\n        return\n    while (abs(a - b) > eps):\n        if f(a) * f((a + b) / 2) < 0:\n            b = (a + b) / 2\n        else:\n            a = (a + b) / 2\n    x = (a + b) / 2\n    print('x =', round(x, 5), '  -   Half division method')\n\ndef chord(a, b, eps):\n    if f(a) * f(b) > 0:\n        print(\"No sign change in the interval, cannot apply chord method.\")\n        return\n    if (f(a) * (f(a) - f((a + b) / 2)) > 0):\n        x0 = a\n        xi = b\n    else:\n        x0 = b\n        xi = a\n    xi_1 = xi - (xi - x0) * f(xi) / (f(xi) - f(x0))\n    while (abs(xi_1 - xi) > eps):\n        xi = xi_1\n        xi_1 = xi - (xi - x0) * f(xi) / (f(xi) - f(x0))\n    print('x =', round(xi_1, 5), '  -   Chord method')\n\na = 0.\nb = 1.\n\nprint(f'Solution of a nonlinear equation on the segment [{a}, {b}]')\n\nrec(a, b, eps)\nchord(a, b, eps)\n",
      "metadata": {
        "trusted": true
      },
      "execution_count": 6,
      "outputs": [
        {
          "name": "stdout",
          "text": "Found segment: [-1, 0]\nFound segment: [0, 1]\nSolution of a nonlinear equation on the segment [0.0, 1.0]\nx = 0.59964   -   Half division method\nx = -0.45378   -   Chord method\n",
          "output_type": "stream"
        }
      ],
      "id": "059d471d-7cb9-4b60-a7c5-9c39254d8eca"
    },
    {
      "cell_type": "code",
      "source": "",
      "metadata": {},
      "execution_count": null,
      "outputs": [],
      "id": "a498040c-e37a-441b-b333-c52cadc8ce9a"
    }
  ]
}