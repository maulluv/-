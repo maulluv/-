{
  "metadata": {
    "kernelspec": {
      "name": "python",
      "display_name": "Python (Pyodide)",
      "language": "python"
    },
    "language_info": {
      "codemirror_mode": {
        "name": "python",
        "version": 3
      },
      "file_extension": ".py",
      "mimetype": "text/x-python",
      "name": "python",
      "nbconvert_exporter": "python",
      "pygments_lexer": "ipython3",
      "version": "3.8"
    }
  },
  "nbformat_minor": 5,
  "nbformat": 4,
  "cells": [
    {
      "cell_type": "code",
      "source": "import math\n\ndef calculate_relative_error(true_value, approximate_value):\n    return abs(true_value - approximate_value) / abs(true_value)\n\ndef compare_approximations(true_values, approximate_values):\n    relative_errors = [calculate_relative_error(true, approx) for true, approx in zip(true_values, approximate_values)]\n    \n    min_error_index = relative_errors.index(min(relative_errors))\n    min_error = relative_errors[min_error_index]\n    \n    if relative_errors.count(min_error) == 1:\n        print(f\"Рівність {min_error_index + 1} точніше з відносною похибкою: {min_error}\")\n    else:\n        print(\"Обидві рівності мають однакову точність з відносною похибкою:\", min_error)\n\nx1 = 12\nx2 = 19 / 12\nx1_1 = 3.466\nx2_2 = 1.583\n\ntrue_values = [math.sqrt(x1), x2]\napproximate_values = [x1_1, x2_2]\n\ncompare_approximations(true_values, approximate_values)\n",
      "metadata": {
        "trusted": true
      },
      "execution_count": 2,
      "outputs": [
        {
          "name": "stdout",
          "text": "Рівність 2 точніше з відносною похибкою: 0.00021052631578945052\n",
          "output_type": "stream"
        }
      ],
      "id": "05778f2f-dce6-4fc6-9d52-8da2eff65b8a"
    },
    {
      "cell_type": "markdown",
      "source": "## Next steps 🏃\n\nThis is just a short introduction to JupyterLab and Jupyter Notebooks. See below for some more ways to interact with tools in the Jupyter ecosystem, and its community.\n\n### Other notebooks in this demo\n\nHere are some other notebooks in this demo. Each of the items below corresponds to a file or folder in the **file browser to the left**.\n\n- [**`Lorenz.ipynb`**](Lorenz.ipynb) uses Python to demonstrate interactive visualizations and computations around the [Lorenz system](https://en.wikipedia.org/wiki/Lorenz_system). It shows off basic Python functionality, including more visualizations, data structures, and scientific computing libraries.\n- [**`sqlite.ipynb`**](sqlite.ipynb) demonstrates how an in-browser sqlite kernel to run your own SQL commands from the notebook. It uses the [jupyterlite/xeus-sqlite-kernel](https://github.com/jupyterlite/xeus-sqlite-kernel).\n\n### Other sources of information in Jupyter\n\n- **More on using JupyterLab**: See [the JupyterLab documentation](https://jupyterlab.readthedocs.io/en/stable/) for more thorough information about how to install and use JupyterLab.\n- **More interactive demos**: See [try.jupyter.org](https://try.jupyter.org) for more interactive demos with the Jupyter ecosystem.\n- **Learn more about Jupyter**: See [the Jupyter community documentation](https://docs.jupyter.org) to learn more about the project, its community and tools, and how to get involved.\n- **Join our discussions**: The [Jupyter Community Forum](https://discourse.jupyter.org) is a place where many in the Jupyter community ask questions, help one another, and discuss issues around interactive computing and our ecosystem.",
      "metadata": {},
      "id": "b9670d85-ef29-4dfd-b4b5-e76d279c1f1a"
    },
    {
      "cell_type": "code",
      "source": "x1=4.88445\nx2_error = 0.00052\n\ndef function(x1,x2_error):\n    expo_form = \"{: .3e}\".format(x1)\n    parts=expo_form.split(\"e\")\n    \n    exponent=int(parts[1])\n    \n    for n in range(1,5):\n        if x2_error<=0.5*10**(exponent-n+1):\n            print(\"Умова виконується\")\n        else:\n            print(\"Умова не виконується\")\n            \nfunction(x1, x2_error)",
      "metadata": {
        "trusted": true
      },
      "execution_count": 3,
      "outputs": [
        {
          "name": "stdout",
          "text": "Умова виконується\nУмова виконується\nУмова виконується\nУмова не виконується\n",
          "output_type": "stream"
        }
      ],
      "id": "a9f94058-c04f-4a5e-a980-d273ce508526"
    },
    {
      "cell_type": "code",
      "source": "x=4.636\ndef f (x):\n    error = 1*0.0001\n    rel_error = error/x\n    res = round(rel_error,6)*100\n    print(f\"У відстотках {res}%\")\n    \nf(x)    ",
      "metadata": {
        "trusted": true
      },
      "execution_count": 4,
      "outputs": [
        {
          "name": "stdout",
          "text": "У відстотках 0.0022%\n",
          "output_type": "stream"
        }
      ],
      "id": "016fb79b-7add-4de1-947e-49972aca7a0b"
    }
  ]
}